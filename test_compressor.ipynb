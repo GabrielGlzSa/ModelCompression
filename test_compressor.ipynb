{
 "cells": [
  {
   "cell_type": "code",
   "execution_count": 25,
   "metadata": {},
   "outputs": [],
   "source": [
    "import tensorflow as tf\n",
    "import tensorflow_datasets as tfds\n",
    "import logging\n",
    "from uuid import uuid4\n",
    "from datetime import datetime\n",
    "from tqdm import tqdm\n",
    "import pandas as pd\n",
    "import numpy as np\n",
    "import matplotlib.pyplot as plt\n",
    "\n",
    "from CompressionLibrary.agent_evaluators import make_env_imagenet, evaluate_agents\n",
    "from CompressionLibrary.reinforcement_models import DQNAgent\n"
   ]
  },
  {
   "cell_type": "code",
   "execution_count": 26,
   "metadata": {},
   "outputs": [
    {
     "data": {
      "text/plain": [
       "<matplotlib.legend.Legend at 0x7f0a66d42e80>"
      ]
     },
     "execution_count": 26,
     "metadata": {},
     "output_type": "execute_result"
    },
    {
     "data": {
      "image/png": "[encoded data removed]",
      "text/plain": [
       "<Figure size 432x288 with 1 Axes>"
      ]
     },
     "metadata": {
      "needs_background": "light"
     },
     "output_type": "display_data"
    }
   ],
   "source": [
    "x = list(range(1000))\n",
    "r = [0.999, 0.995, 0.99, 0.95, 0.92, 0.9]\n",
    "for v in r:\n",
    "    f = lambda a: 0.9*v**a\n",
    "    y = list(map(f,x))\n",
    "    plt.plot(x,y)\n",
    "\n",
    "legends = list(map(str, r))\n",
    "plt.legend(legends)\n"
   ]
  },
  {
   "cell_type": "code",
   "execution_count": 27,
   "metadata": {},
   "outputs": [
    {
     "name": "stdout",
     "output_type": "stream",
     "text": [
      "ERROR: Not connected to a TPU runtime; Using GPU strategy instead!\n",
      "Number of devices: 1\n"
     ]
    }
   ],
   "source": [
    "dataset_name = 'kmnist'\n",
    "agent_name = '-'.join(['mnist', 'kmnist'])\n",
    "run_id = datetime.now().strftime('%Y-%m-%d-%H-%M%S-') + str(uuid4())\n",
    "\n",
    "try:\n",
    "  # Use below for TPU\n",
    "  resolver = tf.distribute.cluster_resolver.TPUClusterResolver(tpu='local')\n",
    "  tf.config.experimental_connect_to_cluster(resolver)\n",
    "  # This is the TPU initialization code that has to be at the beginning.\n",
    "  tf.tpu.experimental.initialize_tpu_system(resolver)\n",
    "  print(\"All devices: \", tf.config.list_logical_devices('TPU'))\n",
    "  strategy = tf.distribute.TPUStrategy(resolver)\n",
    "  data_path = '/mnt/disks/mcdata/data'\n",
    "\n",
    "except:\n",
    "  print('ERROR: Not connected to a TPU runtime; Using GPU strategy instead!')\n",
    "  strategy = tf.distribute.OneDeviceStrategy(device=\"/gpu:0\")\n",
    "  data_path = './data'\n",
    "  \n",
    "if strategy:\n",
    "    print('Number of devices: {}'.format(strategy.num_replicas_in_sync))\n",
    "\n",
    "\n",
    "logging.basicConfig(level=logging.DEBUG, handlers=[\n",
    "    logging.FileHandler(f'/home/A00806415/DCC/ModelCompression/data/ModelCompression_test_{dataset_name}.log', 'w+')],\n",
    "    format='%(asctime)s -%(levelname)s - %(funcName)s -  %(message)s')\n",
    "logging.root.setLevel(logging.DEBUG)\n",
    "\n",
    "log = logging.getLogger('tensorflow')\n",
    "log.setLevel(logging.ERROR)\n",
    "\n",
    "\n",
    "current_state = 'layer_input'\n",
    "next_state = 'layer_output'\n",
    "\n",
    "epsilon_start_value = 0.9\n",
    "verbose = 0\n",
    "eval_n_samples = 10\n",
    "n_samples_mode = -1\n",
    "tuning_batch_size = 128\n",
    "tuning_epochs = 30\n",
    "\n",
    "layer_name_list = ['conv2d_1',  'dense', 'dense_1']\n",
    "\n",
    "\n",
    "\n"
   ]
  },
  {
   "cell_type": "markdown",
   "metadata": {},
   "source": [
    "# Model creation and data loading.\n"
   ]
  },
  {
   "cell_type": "code",
   "execution_count": 28,
   "metadata": {},
   "outputs": [],
   "source": [
    "def create_model():\n",
    "    checkpoint_path = f\"./data/models/lenet_{dataset_name}/cp.ckpt\"\n",
    "    optimizer = tf.keras.optimizers.Adam(1e-5)\n",
    "    loss_object = tf.keras.losses.SparseCategoricalCrossentropy()\n",
    "    train_metric = tf.keras.metrics.SparseCategoricalAccuracy()\n",
    "    input = tf.keras.layers.Input((28,28,1))\n",
    "    x = tf.keras.layers.Conv2D(6, (5,5), padding='SAME', activation='sigmoid', name='conv2d')(input)\n",
    "    x = tf.keras.layers.AveragePooling2D((2,2), strides=2, name='avg_pool_1')(x)\n",
    "    x = tf.keras.layers.Conv2D(16, (5,5), padding='VALID', activation='sigmoid', name='conv2d_1')(x)\n",
    "    x = tf.keras.layers.AveragePooling2D((2,2), strides=2, name='avg_pool_2')(x)\n",
    "    x = tf.keras.layers.Flatten(name='flatten')(x)\n",
    "    x = tf.keras.layers.Dense(120, activation='sigmoid', name='dense')(x)\n",
    "    x = tf.keras.layers.Dense(84, activation='sigmoid', name='dense_1')(x)\n",
    "    x = tf.keras.layers.Dense(10, activation='softmax', name='predictions')(x)\n",
    "\n",
    "    model = tf.keras.Model(input, x, name='LeNet')\n",
    "    model.compile(optimizer=optimizer, loss=loss_object,\n",
    "                    metrics=[train_metric])\n",
    "\n",
    "    try:\n",
    "        model.load_weights(checkpoint_path).expect_partial()\n",
    "    except:\n",
    "        cp_callback = tf.keras.callbacks.ModelCheckpoint(filepath=checkpoint_path, monitor='val_loss', save_best_only=True,\n",
    "                                                 save_weights_only=True,\n",
    "                                                 verbose=1)\n",
    "        model.fit(train_ds,\n",
    "          epochs=3000,\n",
    "          validation_data=valid_ds,\n",
    "          callbacks=[cp_callback])\n",
    "\n",
    "    return model       \n",
    "\n",
    "def dataset_preprocessing(img, label):\n",
    "    img = tf.cast(img, tf.float32)\n",
    "    img = img/255.0\n",
    "    return img, label\n",
    "\n",
    "def load_dataset(batch_size=128):\n",
    "    splits, info = tfds.load(dataset_name, as_supervised=True, with_info=True, shuffle_files=True, \n",
    "                                split=['train[:80%]', 'train[80%:]','test'])\n",
    "\n",
    "    (train_examples, validation_examples, test_examples) = splits\n",
    "    num_examples = info.splits['train'].num_examples\n",
    "\n",
    "    num_classes = info.features['label'].num_classes\n",
    "    input_shape = info.features['image'].shape\n",
    "\n",
    "    input_shape = (28,28,1)\n",
    "\n",
    "    train_ds = train_examples.map(dataset_preprocessing, num_parallel_calls=tf.data.AUTOTUNE).shuffle(buffer_size=1000, reshuffle_each_iteration=True).batch(batch_size).prefetch(tf.data.AUTOTUNE)\n",
    "    valid_ds = validation_examples.map(dataset_preprocessing, num_parallel_calls=tf.data.AUTOTUNE).batch(batch_size).prefetch(tf.data.AUTOTUNE)\n",
    "    test_ds = test_examples.map(dataset_preprocessing, num_parallel_calls=tf.data.AUTOTUNE).batch(batch_size).prefetch(tf.data.AUTOTUNE)\n",
    "\n",
    "    return train_ds, valid_ds, test_ds, input_shape, num_classes\n",
    "\n",
    "train_ds, valid_ds, test_ds, input_shape, _ = load_dataset(tuning_batch_size)"
   ]
  },
  {
   "cell_type": "markdown",
   "metadata": {},
   "source": [
    "# Creation of agent"
   ]
  },
  {
   "cell_type": "code",
   "execution_count": 29,
   "metadata": {},
   "outputs": [
    {
     "name": "stdout",
     "output_type": "stream",
     "text": [
      "Model: \"model_15\"\n",
      "_________________________________________________________________\n",
      "Layer (type)                 Output Shape              Param #   \n",
      "=================================================================\n",
      "input_19 (InputLayer)        [(None, 28, 28, 1)]       0         \n",
      "_________________________________________________________________\n",
      "conv2d (Conv2D)              (None, 28, 28, 6)         156       \n",
      "_________________________________________________________________\n",
      "avg_pool_1 (AveragePooling2D (None, 14, 14, 6)         0         \n",
      "_________________________________________________________________\n",
      "conv2d_1 (Conv2D)            (None, 10, 10, 16)        2416      \n",
      "_________________________________________________________________\n",
      "avg_pool_2 (AveragePooling2D (None, 5, 5, 16)          0         \n",
      "_________________________________________________________________\n",
      "flatten (Flatten)            (None, 400)               0         \n",
      "_________________________________________________________________\n",
      "dense (Dense)                (None, 120)               48120     \n",
      "_________________________________________________________________\n",
      "dense_1 (Dense)              (None, 84)                10164     \n",
      "_________________________________________________________________\n",
      "predictions (Dense)          (None, 10)                850       \n",
      "=================================================================\n",
      "Total params: 61,706\n",
      "Trainable params: 61,706\n",
      "Non-trainable params: 0\n",
      "_________________________________________________________________\n",
      "[12000    14    14    16] (12000, 400)\n",
      "Model: \"dqn_agent_fc\"\n",
      "_________________________________________________________________\n",
      "Layer (type)                 Output Shape              Param #   \n",
      "=================================================================\n",
      "input_20 (InputLayer)        [(None, None, 1)]         0         \n",
      "_________________________________________________________________\n",
      "conv1d (Conv1D)              (None, None, 64)          256       \n",
      "_________________________________________________________________\n",
      "roi_embedding1d (ROIEmbeddin (None, 63)                0         \n",
      "_________________________________________________________________\n",
      "dense (Dense)                (None, 512)               32768     \n",
      "_________________________________________________________________\n",
      "dense_1 (Dense)              (None, 5)                 2565      \n",
      "=================================================================\n",
      "Total params: 35,589\n",
      "Trainable params: 35,589\n",
      "Non-trainable params: 0\n",
      "_________________________________________________________________\n"
     ]
    }
   ],
   "source": [
    "\n",
    "input_shape = (28,28,1)\n",
    "env = make_env_imagenet(\n",
    "            create_model=create_model, \n",
    "            train_ds=train_ds, \n",
    "            valid_ds=valid_ds, \n",
    "            test_ds=test_ds, \n",
    "            input_shape=input_shape, \n",
    "            layer_name_list=layer_name_list, \n",
    "            num_feature_maps=n_samples_mode, \n",
    "            tuning_batch_size=tuning_batch_size, \n",
    "            tuning_epochs=tuning_epochs, \n",
    "            verbose=verbose, \n",
    "            tuning_mode='layer', \n",
    "            current_state_source=current_state, \n",
    "            next_state_source=next_state, \n",
    "            strategy=strategy, \n",
    "            model_path=data_path)\n",
    "env.model.summary()\n",
    "\n",
    "conv_shape, dense_shape = env.observation_space()\n",
    "conv_n_actions, fc_n_actions = env.action_space()\n",
    "\n",
    "print(conv_shape, dense_shape)\n",
    "\n",
    "def load_weigths_into_target_network(agent, target_network):\n",
    "    \"\"\" assign target_network.weights variables to their respective agent.weights values. \"\"\"\n",
    "    for i in range(len(agent.model.layers)):\n",
    "        target_network.model.layers[i].set_weights(\n",
    "            agent.model.layers[i].get_weights())\n",
    "\n",
    "\n",
    "with strategy.scope():\n",
    "    \n",
    "    fc_agent = DQNAgent(\"dqn_agent_fc\", dense_shape,\n",
    "                        fc_n_actions, epsilon=epsilon_start_value, layer_type='fc')\n",
    "    fc_target_network = DQNAgent(\n",
    "        \"target_network_fc\", dense_shape, fc_n_actions, layer_type='fc')\n",
    "\n",
    "    fc_agent.model.summary()\n",
    "\n",
    "    conv_agent = DQNAgent(\"dqn_agent_conv\", conv_shape,\n",
    "                        conv_n_actions, epsilon=epsilon_start_value, layer_type='cnn')\n",
    "    conv_target_network = DQNAgent(\n",
    "        \"target_network_conv\", conv_shape, conv_n_actions, layer_type='cnn')\n",
    "\n",
    "\n",
    "    \n",
    "\n",
    "    try:\n",
    "        conv_target_network.model.load_weights(\n",
    "            data_path+'/checkpoints/{}_my_checkpoint_conv_agent'.format(agent_name))\n",
    "        fc_target_network.model.load_weights(\n",
    "            data_path+'/checkpoints/{}_my_checkpoint_fc_agent'.format(agent_name))\n",
    "    except:\n",
    "        print('Failed to find pretrained models for the RL agents.')\n",
    "        pass\n"
   ]
  },
  {
   "cell_type": "markdown",
   "metadata": {},
   "source": [
    "# Evaluation of results"
   ]
  },
  {
   "cell_type": "code",
   "execution_count": 30,
   "metadata": {},
   "outputs": [],
   "source": [
    "rw, acc, weights = evaluate_agents(env, conv_agent, fc_agent,run_id=run_id,test_number=0, dataset_name=dataset_name,save_name=data_path+'/test_generalist_training_ds.csv', n_games=eval_n_samples)    "
   ]
  }
 ],
 "metadata": {
  "kernelspec": {
   "display_name": "Python 3.6.13 ('mc')",
   "language": "python",
   "name": "python3"
  },
  "language_info": {
   "codemirror_mode": {
    "name": "ipython",
    "version": 3
   },
   "file_extension": ".py",
   "mimetype": "text/x-python",
   "name": "python",
   "nbconvert_exporter": "python",
   "pygments_lexer": "ipython3",
   "version": "3.6.13"
  },
  "orig_nbformat": 4,
  "vscode": {
   "interpreter": {
    "hash": "51ccaed8c3f743b1f0f573d1bf9b420e6968f0ad98d33b49a16252e93b5cad05"
   }
  }
 },
 "nbformat": 4,
 "nbformat_minor": 2
}
